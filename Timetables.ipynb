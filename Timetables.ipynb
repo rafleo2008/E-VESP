{
 "cells": [
  {
   "cell_type": "code",
   "execution_count": null,
   "id": "552a1ed7",
   "metadata": {},
   "outputs": [],
   "source": [
    "# testing notebook\n"
   ]
  },
  {
   "cell_type": "code",
   "execution_count": null,
   "id": "cd591743",
   "metadata": {},
   "outputs": [],
   "source": [
    "## defining operative time\n",
    "hSta = 5\n",
    "hEnd = 23\n",
    "\n",
    "freq = 5\n",
    "tc = 90\n",
    "\n"
   ]
  },
  {
   "cell_type": "code",
   "execution_count": null,
   "id": "0c63b2e9",
   "metadata": {},
   "outputs": [],
   "source": [
    "bus = n\n"
   ]
  }
 ],
 "metadata": {
  "kernelspec": {
   "display_name": "Python 3 (ipykernel)",
   "language": "python",
   "name": "python3"
  },
  "language_info": {
   "codemirror_mode": {
    "name": "ipython",
    "version": 3
   },
   "file_extension": ".py",
   "mimetype": "text/x-python",
   "name": "python",
   "nbconvert_exporter": "python",
   "pygments_lexer": "ipython3",
   "version": "3.9.13"
  }
 },
 "nbformat": 4,
 "nbformat_minor": 5
}
